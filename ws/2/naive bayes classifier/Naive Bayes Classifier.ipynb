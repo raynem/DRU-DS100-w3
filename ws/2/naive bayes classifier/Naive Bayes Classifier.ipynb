{
 "cells": [
  {
   "cell_type": "markdown",
   "metadata": {},
   "source": [
    "# Naive Bayes Classifier"
   ]
  },
  {
   "cell_type": "code",
   "execution_count": 36,
   "metadata": {
    "collapsed": true
   },
   "outputs": [],
   "source": [
    "import csv\n",
    "import random\n",
    "import math\n",
    "import numpy as np"
   ]
  },
  {
   "cell_type": "code",
   "execution_count": 37,
   "metadata": {
    "collapsed": true
   },
   "outputs": [],
   "source": [
    "def loadCsv(filename):\n",
    "    return np.genfromtxt('data.csv', delimiter=',')"
   ]
  },
  {
   "cell_type": "code",
   "execution_count": 38,
   "metadata": {
    "collapsed": true
   },
   "outputs": [],
   "source": [
    "def splitDataset(dataset, splitRatio):\n",
    "    # Training set size\n",
    "    trainSize = int(dataset.shape[0] * splitRatio)\n",
    "    \n",
    "    # List of randomly chosen indicies\n",
    "    indices = np.random.permutation(dataset.shape[0])\n",
    "    \n",
    "    # Split indicies for training and test set by trainSize\n",
    "    training_idx, test_idx = indices[:trainSize], indices[trainSize:]\n",
    "    \n",
    "    # Create training and test sets by indicies\n",
    "    training, test = dataset[training_idx,:], dataset[test_idx,:]\n",
    "    \n",
    "    return training, test"
   ]
  },
  {
   "cell_type": "code",
   "execution_count": 39,
   "metadata": {},
   "outputs": [],
   "source": [
    "def separateByClass(dataset):\n",
    "    # Here we limit our classes to 0 and 1\n",
    "    # You need to generalize this for arbitrary number of classes\n",
    "    return {\n",
    "        1: dataset[np.where(dataset[:, -1]==1), :],\n",
    "        0: dataset[np.where(dataset[:, -1]==0), :]\n",
    "    }"
   ]
  },
  {
   "cell_type": "code",
   "execution_count": 40,
   "metadata": {},
   "outputs": [
    {
     "data": {
      "text/plain": [
       "(1, 268, 9)"
      ]
     },
     "execution_count": 40,
     "metadata": {},
     "output_type": "execute_result"
    }
   ],
   "source": [
    "points = loadCsv('data.csv')\n",
    "dataset = points[np.where(points[:,-1]==1),:]\n",
    "dataset.shape"
   ]
  },
  {
   "cell_type": "code",
   "execution_count": 41,
   "metadata": {
    "collapsed": true
   },
   "outputs": [],
   "source": [
    "def summarize(dataset):\n",
    "    # Calculate means and standart deviations with one degree of freedom for each attribute\n",
    "    # We do it by column which is axis 1\n",
    "    # Also we remove last elements (guess why?)\n",
    "    means = dataset.mean(axis=1)[0][:-1]\n",
    "    stds = dataset.std(axis=1,ddof=1)[0][:-1]\n",
    "    \n",
    "    # Think what we do here?\n",
    "    return means, stds"
   ]
  },
  {
   "cell_type": "code",
   "execution_count": 42,
   "metadata": {
    "collapsed": true
   },
   "outputs": [],
   "source": [
    "def summarizeByClass(dataset):\n",
    "    # Divide dataset by class and summarize it\n",
    "    separated = separateByClass(dataset)\n",
    "    \n",
    "    summaries = {}\n",
    "    \n",
    "    for classValue, instances in separated.items():\n",
    "        summaries[classValue] = summarize(instances)\n",
    "    \n",
    "    return summaries"
   ]
  },
  {
   "cell_type": "code",
   "execution_count": 43,
   "metadata": {
    "collapsed": true
   },
   "outputs": [],
   "source": [
    "def calculateProbability(x, mean, stdev):\n",
    "    # Calculate probability by x, mean and std\n",
    "    # 1/(sqrt(2pi)*std)*exp(-(x-mean)^2/(2std^2))\n",
    "    return np.exp(-(x  - mean)**2/(2 * stdev**2))/np.sqrt((2 * np.pi) * stdev)"
   ]
  },
  {
   "cell_type": "code",
   "execution_count": 44,
   "metadata": {},
   "outputs": [],
   "source": [
    "def calculateClassProbabilities(summaries, inputVector):\n",
    "    # Calculate probabilities for input vector from test set\n",
    "    probabilities = {}\n",
    "    \n",
    "    for classValue, classSummaries in summaries.items():\n",
    "        \n",
    "        means = classSummaries[0]\n",
    "        stds  = classSummaries[1]\n",
    "        \n",
    "        # Calculate corresonding probabilities and multiply them\n",
    "        probabilities[classValue] = np.prod(calculateProbability(inputVector[:-1], means, stds))\n",
    "        \n",
    "    return probabilities"
   ]
  },
  {
   "cell_type": "code",
   "execution_count": 45,
   "metadata": {
    "collapsed": true
   },
   "outputs": [],
   "source": [
    "def predict(summaries, inputVector):\n",
    "    # Calculate probabilities\n",
    "    probabilities = calculateClassProbabilities(summaries, inputVector)\n",
    "    \n",
    "    # Init values of probability and label\n",
    "    bestLabel, bestProb = None, -1\n",
    "    \n",
    "    # Check probability of which class is better\n",
    "    for classValue, probability in probabilities.items():\n",
    "        if bestLabel is None or probability > bestProb:\n",
    "            bestProb = probability\n",
    "            bestLabel = classValue\n",
    "    \n",
    "    return bestLabel"
   ]
  },
  {
   "cell_type": "code",
   "execution_count": 46,
   "metadata": {
    "collapsed": true
   },
   "outputs": [],
   "source": [
    "def getPredictions(summaries, testSet):\n",
    "    # For each probability find optimal labels\n",
    "    predictions = []\n",
    "    \n",
    "    for i in range(len(testSet)):\n",
    "        result = predict(summaries, testSet[i])\n",
    "        predictions.append(result)\n",
    "\n",
    "    return predictions"
   ]
  },
  {
   "cell_type": "code",
   "execution_count": 47,
   "metadata": {
    "collapsed": true
   },
   "outputs": [],
   "source": [
    "def getAccuracy(testSet, predictions):\n",
    "    # Check accuracy\n",
    "    correct = 0\n",
    "    \n",
    "    for i in range(len(testSet)):\n",
    "        if testSet[i][-1] == predictions[i]:\n",
    "            correct += 1\n",
    "    return (correct/float(len(testSet))) * 100.0"
   ]
  },
  {
   "cell_type": "code",
   "execution_count": 48,
   "metadata": {
    "collapsed": true
   },
   "outputs": [],
   "source": [
    "def main():\n",
    "    # Set initial data\n",
    "    filename = 'data.csv'\n",
    "    \n",
    "    # Set split ratio\n",
    "    splitRatio = 0.67\n",
    "    \n",
    "    # Load dataset and return numpy array\n",
    "    dataset = loadCsv(filename)\n",
    "    \n",
    "    # Split dataset\n",
    "    trainingSet, testSet = splitDataset(dataset, splitRatio)\n",
    "    \n",
    "    # Log row amounts\n",
    "    print('Split {0} rows into train={1} and test={2} rows'.format(len(dataset), len(trainingSet), len(testSet)))\n",
    "    \n",
    "    # Prepare model\n",
    "    summaries = summarizeByClass(trainingSet)\n",
    "    \n",
    "    # Test model\n",
    "    predictions = getPredictions(summaries, testSet)\n",
    "    \n",
    "    accuracy = getAccuracy(testSet, predictions)\n",
    "    \n",
    "    print('Accuracy: {0}%'.format(accuracy))"
   ]
  },
  {
   "cell_type": "code",
   "execution_count": 49,
   "metadata": {},
   "outputs": [
    {
     "name": "stdout",
     "output_type": "stream",
     "text": [
      "Split 768 rows into train=514 and test=254 rows\n",
      "Accuracy: 74.80314960629921%\n"
     ]
    }
   ],
   "source": [
    "main()"
   ]
  }
 ],
 "metadata": {
  "kernelspec": {
   "display_name": "Python 3",
   "language": "python",
   "name": "python3"
  },
  "language_info": {
   "codemirror_mode": {
    "name": "ipython",
    "version": 3
   },
   "file_extension": ".py",
   "mimetype": "text/x-python",
   "name": "python",
   "nbconvert_exporter": "python",
   "pygments_lexer": "ipython3",
   "version": "3.6.3"
  }
 },
 "nbformat": 4,
 "nbformat_minor": 2
}
