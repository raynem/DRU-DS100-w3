{
 "cells": [
  {
   "cell_type": "markdown",
   "metadata": {},
   "source": [
    "# K-means"
   ]
  },
  {
   "cell_type": "code",
   "execution_count": 2,
   "metadata": {
    "collapsed": true
   },
   "outputs": [],
   "source": [
    "# necessary imports\n",
    "%matplotlib inline\n",
    "import matplotlib.pyplot as plt\n",
    "import numpy as np"
   ]
  },
  {
   "cell_type": "markdown",
   "metadata": {},
   "source": [
    "### Generate data"
   ]
  },
  {
   "cell_type": "code",
   "execution_count": 3,
   "metadata": {
    "collapsed": true
   },
   "outputs": [],
   "source": [
    "# Generate Data\n",
    "points = np.vstack(((np.random.randn(150, 2) * 0.75 + np.array([1, 0])),\n",
    "              (np.random.randn(50, 2) * 0.25 + np.array([-0.5, 0.5])),\n",
    "              (np.random.randn(50, 2) * 0.5 + np.array([-0.5, -0.5]))))"
   ]
  },
  {
   "cell_type": "markdown",
   "metadata": {},
   "source": [
    "### Main functions"
   ]
  },
  {
   "cell_type": "code",
   "execution_count": 4,
   "metadata": {
    "collapsed": true
   },
   "outputs": [],
   "source": [
    "def initialize_centroids(points, k):\n",
    "    '''\n",
    "        Selects k random points as initial\n",
    "        points from dataset\n",
    "    '''\n",
    "    centroids = points.copy()\n",
    "    np.random.shuffle(centroids)\n",
    "    return centroids[:k]\n"
   ]
  },
  {
   "cell_type": "code",
   "execution_count": 5,
   "metadata": {
    "collapsed": true
   },
   "outputs": [],
   "source": [
    "def closest_centroid(points, centroids):\n",
    "    '''\n",
    "        Returns an array containing the index to the nearest centroid for each point\n",
    "    '''\n",
    "    distances = np.sqrt(((points - centroids[:, np.newaxis])**2).sum(axis=2))\n",
    "    return np.argmin(distances, axis=0)"
   ]
  },
  {
   "cell_type": "code",
   "execution_count": 6,
   "metadata": {
    "collapsed": true
   },
   "outputs": [],
   "source": [
    "def move_centroids(points, closest, centroids):\n",
    "    '''\n",
    "        Returns the new centroids assigned from the points closest to them\n",
    "    '''\n",
    "    return np.array([points[closest==k].mean(axis=0) for k in range(centroids.shape[0])])"
   ]
  },
  {
   "cell_type": "code",
   "execution_count": 7,
   "metadata": {
    "collapsed": true
   },
   "outputs": [],
   "source": [
    "def main(points):\n",
    "    num_iterations = 100\n",
    "    k = 3\n",
    "        \n",
    "    # Initialize centroids\n",
    "    centroids = initialize_centroids(points, k)\n",
    "    \n",
    "    # Run iterative process\n",
    "    for i in range(num_iterations):\n",
    "        closest = closest_centroid(points, centroids)\n",
    "        centroids = move_centroids(points, closest, centroids)\n",
    "    \n",
    "    return centroids"
   ]
  },
  {
   "cell_type": "code",
   "execution_count": 11,
   "metadata": {},
   "outputs": [
    {
     "data": {
      "text/plain": [
       "array([[ 0.97181323, -0.87935348],\n",
       "       [-0.48547166,  0.05032143],\n",
       "       [ 1.30732263,  0.32800894]])"
      ]
     },
     "execution_count": 11,
     "metadata": {},
     "output_type": "execute_result"
    }
   ],
   "source": [
    "centroids = main(points)"
   ]
  },
  {
   "cell_type": "code",
   "execution_count": 20,
   "metadata": {},
   "outputs": [
    {
     "data": {
      "image/png": "[encoded data removed]",
      "text/plain": [
       "<matplotlib.figure.Figure at 0x7fc0ab0060f0>"
      ]
     },
     "metadata": {},
     "output_type": "display_data"
    }
   ],
   "source": [
    "centroids = initialize_centroids(points, 6)\n",
    "\n",
    "plt.scatter(points[:, 0], points[:, 1])\n",
    "plt.scatter(centroids[:, 0], centroids[:, 1], c='r', s=100)\n",
    "ax = plt.gca()"
   ]
  },
  {
   "cell_type": "code",
   "execution_count": 28,
   "metadata": {},
   "outputs": [
    {
     "data": {
      "image/png": "[encoded data removed]",
      "text/plain": [
       "<matplotlib.figure.Figure at 0x7fc0aadef400>"
      ]
     },
     "metadata": {},
     "output_type": "display_data"
    }
   ],
   "source": [
    "closest = closest_centroid(points, centroids)\n",
    "centroids = move_centroids(points, closest, centroids)\n",
    "\n",
    "plt.scatter(points[:, 0], points[:, 1])\n",
    "plt.scatter(centroids[:, 0], centroids[:, 1], c='r', s=100)\n",
    "ax = plt.gca()"
   ]
  },
  {
   "cell_type": "code",
   "execution_count": null,
   "metadata": {
    "collapsed": true
   },
   "outputs": [],
   "source": []
  },
  {
   "cell_type": "code",
   "execution_count": null,
   "metadata": {
    "collapsed": true
   },
   "outputs": [],
   "source": []
  }
 ],
 "metadata": {
  "kernelspec": {
   "display_name": "Python 3",
   "language": "python",
   "name": "python3"
  },
  "language_info": {
   "codemirror_mode": {
    "name": "ipython",
    "version": 3
   },
   "file_extension": ".py",
   "mimetype": "text/x-python",
   "name": "python",
   "nbconvert_exporter": "python",
   "pygments_lexer": "ipython3",
   "version": "3.6.3"
  }
 },
 "nbformat": 4,
 "nbformat_minor": 2
}
