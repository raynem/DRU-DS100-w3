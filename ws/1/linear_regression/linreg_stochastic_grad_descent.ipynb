{
 "cells": [
  {
   "cell_type": "code",
   "execution_count": null,
   "metadata": {
    "collapsed": true
   },
   "outputs": [],
   "source": [
    "#stochastic gradient descent use\n",
    "\n",
    "import pandas as pd\n",
    "import numpy as np"
   ]
  },
  {
   "cell_type": "code",
   "execution_count": 507,
   "metadata": {
    "collapsed": true
   },
   "outputs": [],
   "source": [
    "def compute_error(y, w):\n",
    "    error = 0\n",
    "    N = len(X)\n",
    "    error = (np.dot(X,w)-y.T)**2\n",
    "    return np.sum(error) / N "
   ]
  },
  {
   "cell_type": "code",
   "execution_count": 524,
   "metadata": {
    "collapsed": true
   },
   "outputs": [],
   "source": [
    "\n",
    "def stochastic_gradient_step(X, y, w, train_ind, eta=0.1):\n",
    "    grad = (2/len(X)) * X[train_ind,:] * (np.dot(X[train_ind,:],w) - y[train_ind,:] )\n",
    "    return  w - eta * grad"
   ]
  },
  {
   "cell_type": "code",
   "execution_count": 535,
   "metadata": {
    "collapsed": true
   },
   "outputs": [],
   "source": [
    "def stochastic_gradient_descent(X,y,w_init,max_iter=10000):\n",
    "      \n",
    "    w = w_init\n",
    "    errors = []\n",
    "    np.random.seed(42)\n",
    "        \n",
    "    for i in range(max_iter):\n",
    "        random_ind = np.random.randint(X.shape[0])\n",
    "        w = stochastic_gradient_step(X,y,w,random_ind)\n",
    "        errors.append(compute_error(y,w))\n",
    "                \n",
    "    return w, errors\n",
    "\n",
    "def linear_regression():\n",
    "    #init dataset\n",
    "    adver_data = pd.read_csv('advertising.csv')\n",
    "    X = adver_data[['TV', 'radio', 'newspaper']].values\n",
    "    y = adver_data[['sales']].values\n",
    "    \n",
    "    #matrix scaling\n",
    "    means = np.mean(X, axis=0)\n",
    "    stds = np.std(X, axis=0)\n",
    "    X = (X - means) / stds\n",
    "    \n",
    "    X = np.hstack((np.ones((X.shape[0], 1)),X))\n",
    "    w_init = np.zeros(X.shape[1])\n",
    "    \n",
    "    \n",
    "    print(\n",
    "        'Start learning at w = {0}, error = {1}'.format(\n",
    "            w_init,\n",
    "            compute_error(y,w_init)\n",
    "        )\n",
    "    )\n",
    "    \n",
    "    w, errors = stochastic_gradient_descent(X,y,w_init)\n",
    "    print(\n",
    "        'End learning at w = {0}, error = {1}'.format(\n",
    "            w,\n",
    "            compute_error(y,w)\n",
    "        )\n",
    "    )"
   ]
  },
  {
   "cell_type": "code",
   "execution_count": 536,
   "metadata": {},
   "outputs": [
    {
     "name": "stdout",
     "output_type": "stream",
     "text": [
      "Start learning at w = [ 0.  0.  0.  0.], error = 223.71625\n",
      "End learning at w = [ 13.95189116   3.90570603   2.82822419  -0.08254811], error = 2.7927058255015904\n",
      "CPU times: user 1.33 s, sys: 8 ms, total: 1.34 s\n",
      "Wall time: 1.32 s\n"
     ]
    }
   ],
   "source": [
    "%%time\n",
    "linear_regression()"
   ]
  },
  {
   "cell_type": "code",
   "execution_count": null,
   "metadata": {
    "collapsed": true
   },
   "outputs": [],
   "source": []
  }
 ],
 "metadata": {
  "kernelspec": {
   "display_name": "Python 3",
   "language": "python",
   "name": "python3"
  },
  "language_info": {
   "codemirror_mode": {
    "name": "ipython",
    "version": 3
   },
   "file_extension": ".py",
   "mimetype": "text/x-python",
   "name": "python",
   "nbconvert_exporter": "python",
   "pygments_lexer": "ipython3",
   "version": "3.6.3"
  }
 },
 "nbformat": 4,
 "nbformat_minor": 1
}
