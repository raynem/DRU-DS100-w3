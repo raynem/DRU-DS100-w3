{
 "cells": [
  {
   "cell_type": "markdown",
   "metadata": {},
   "source": [
    "## SVM Checker"
   ]
  },
  {
   "cell_type": "code",
   "execution_count": 147,
   "metadata": {},
   "outputs": [
    {
     "name": "stdout",
     "output_type": "stream",
     "text": [
      "Requirement already satisfied: cvxopt in /home/raynem_0/anaconda3/lib/python3.6/site-packages\r\n"
     ]
    }
   ],
   "source": [
    "%matplotlib inline\n",
    "!pip install cvxopt\n",
    "import svm\n",
    "import numpy as np\n",
    "import matplotlib.pyplot as plt\n",
    "import matplotlib.cm as cm\n",
    "import itertools\n",
    "import scipy.ndimage\n",
    "\n",
    "\n",
    "\n",
    "\n",
    "def example(num_samples=100, num_features=2, grid_size=20):\n",
    "    \n",
    "    samples = np.matrix(np.random.normal(size=num_samples * num_features)\n",
    "                        .reshape(num_samples, num_features))\n",
    "    \n",
    "    labels = 2 * (samples.sum(axis=1) > 0) - 1.0\n",
    "    \n",
    "    trainer = svm.SVMTrainer(svm.Kernel.gaussian(sigma=1.0))\n",
    "    \n",
    "    predictor = trainer.train(samples, labels)\n",
    "\n",
    "    plot(predictor, samples, labels, grid_size)\n",
    "\n",
    "\n",
    "def plot(predictor, X, y, grid_size):\n",
    "    \n",
    "    x_min, x_max = X[:, 0].min() - 1, X[:, 0].max() + 1\n",
    "    y_min, y_max = X[:, 1].min() - 1, X[:, 1].max() + 1\n",
    "    \n",
    "    xx, yy = np.meshgrid(\n",
    "        np.linspace(x_min, x_max, grid_size),\n",
    "        np.linspace(y_min, y_max, grid_size),\n",
    "        indexing='ij'\n",
    "    )\n",
    "    \n",
    "    flatten = lambda m: np.array(m).reshape(-1,)\n",
    "\n",
    "    result = []\n",
    "    \n",
    "    for (i, j) in itertools.product(range(grid_size), range(grid_size)):\n",
    "        point = np.array([xx[i, j], yy[i, j]]).reshape(1, 2)\n",
    "        result.append(predictor.predict(point))\n",
    "\n",
    "    Z = np.array(result).reshape(xx.shape)\n",
    "    Z = scipy.ndimage.gaussian_filter(Z, 1)\n",
    "   \n",
    "    plt.contourf(\n",
    "        xx, yy, Z,\n",
    "        cmap=cm.Paired,\n",
    "        levels=[-0.01, 0.01],\n",
    "        extend='both',\n",
    "        alpha=0.7\n",
    "    )\n",
    "    \n",
    "    \n",
    "    plt.scatter(\n",
    "        flatten(X[:, 0]),\n",
    "        flatten(X[:, 1]),\n",
    "        c=flatten(y),\n",
    "        cmap=cm.Paired\n",
    "    )\n",
    "    \n",
    "    plt.xlim(x_min, x_max)\n",
    "    plt.ylim(y_min, y_max)"
   ]
  },
  {
   "cell_type": "code",
   "execution_count": 148,
   "metadata": {
    "scrolled": true
   },
   "outputs": [
    {
     "name": "stdout",
     "output_type": "stream",
     "text": [
      "[[  1.62702186e-01   1.27918313e-02]\n",
      " [  1.14289456e+00   4.56251036e-01]\n",
      " [  8.37786839e-01  -1.26055687e+00]\n",
      " [ -3.26372638e-01   5.64978594e-01]\n",
      " [  8.85271224e-01   2.02262645e-01]\n",
      " [  1.76945061e+00   1.11306594e+00]\n",
      " [ -8.32502649e-01   5.82446847e-01]\n",
      " [ -6.56405973e-01  -8.37668422e-01]\n",
      " [  8.86932918e-01  -8.32852090e-01]\n",
      " [  3.77692488e-02   2.75687580e-01]\n",
      " [  9.48823256e-01   1.34788441e+00]\n",
      " [ -1.91814786e+00   8.47663672e-01]\n",
      " [ -3.92230128e-01  -4.21349661e-01]\n",
      " [ -2.78897409e-02  -4.87288009e-01]\n",
      " [  3.90525609e-01  -9.71010282e-01]\n",
      " [ -1.36617390e+00   1.10444344e+00]\n",
      " [ -8.13354828e-01  -5.78666043e-01]\n",
      " [ -1.42747132e-01  -7.73951157e-01]\n",
      " [  5.76345454e-01  -1.06500497e+00]\n",
      " [  6.39945655e-01  -1.57440979e-01]\n",
      " [ -8.11230864e-01  -2.39142304e-01]\n",
      " [  7.21179469e-02  -3.65466870e-02]\n",
      " [ -1.27196627e+00  -7.31560589e-01]\n",
      " [  1.78132295e-01  -7.95049979e-01]\n",
      " [  8.32841074e-01  -3.49988984e-03]\n",
      " [  1.02305922e+00  -1.23980552e+00]\n",
      " [ -3.82041652e-01   2.05103815e+00]\n",
      " [ -1.31895871e+00   2.99100650e-01]\n",
      " [ -1.81781375e-01  -1.55193312e+00]\n",
      " [ -6.56778875e-01  -1.28104586e+00]\n",
      " [  1.71747193e-01   1.48689243e+00]\n",
      " [  1.56295612e+00  -6.80191795e-01]\n",
      " [  3.98323999e-01  -4.97937806e-01]\n",
      " [ -3.09043736e-02  -3.47349071e-01]\n",
      " [ -6.34719921e-01  -1.22503627e-01]\n",
      " [ -3.63658337e-01  -9.99937179e-01]\n",
      " [  4.43381923e-01  -5.27982759e-02]\n",
      " [ -1.58118404e-03   6.21948951e-01]\n",
      " [  2.03028731e+00   8.45051065e-01]\n",
      " [  1.71356711e+00  -5.56742761e-02]\n",
      " [ -6.41596661e-01  -9.57913987e-01]\n",
      " [ -3.48479823e-02   6.35126295e-01]\n",
      " [ -4.39047920e-01  -5.33774711e-02]\n",
      " [ -6.12958545e-01   4.65675817e-01]\n",
      " [ -1.75572984e+00   3.15030809e-03]\n",
      " [ -3.44822519e-02  -2.00846377e-01]\n",
      " [  1.23288193e+00   1.34323949e+00]\n",
      " [ -5.58599735e-01   1.13653220e+00]\n",
      " [ -1.56445048e+00  -1.26426777e+00]\n",
      " [  1.48763190e-01   3.75714561e-01]\n",
      " [ -1.20946158e+00   6.13767758e-01]\n",
      " [  1.44767507e-01  -7.91760988e-01]\n",
      " [  8.00254157e-01  -1.90750887e+00]\n",
      " [ -4.28943405e-01   2.04834048e+00]\n",
      " [  8.12728340e-01  -3.83481229e-01]\n",
      " [  4.46395013e-01  -1.00951847e+00]\n",
      " [ -2.55526599e-02   1.80642896e+00]\n",
      " [ -1.64655844e-02  -1.42236563e+00]\n",
      " [  8.01442012e-02   2.08396392e+00]\n",
      " [ -2.35175430e-01  -1.92405437e+00]\n",
      " [  1.25874995e+00  -9.36956961e-01]\n",
      " [ -5.28711549e-01  -7.63465598e-01]\n",
      " [  2.57907742e-01   1.14589860e+00]\n",
      " [ -1.44920730e+00   2.07434812e-01]\n",
      " [  1.08338288e-01   1.44737044e+00]\n",
      " [ -2.62003084e-01  -7.13418693e-01]\n",
      " [  1.71509651e+00   4.60832324e-01]\n",
      " [ -7.21926176e-01  -1.16867181e-02]\n",
      " [ -8.61873242e-01   1.44961457e+00]\n",
      " [  1.56071425e+00   1.22720619e+00]\n",
      " [ -3.68867289e-01   2.25955251e-01]\n",
      " [  1.59571710e-01   7.00759244e-01]\n",
      " [ -2.36826079e-01   1.60856648e+00]\n",
      " [ -6.68639975e-01   5.59176870e-01]\n",
      " [  1.92031194e-01   6.32046530e-01]\n",
      " [ -1.28308112e+00   5.73524585e-01]\n",
      " [ -3.92736963e-01  -6.19971934e-01]\n",
      " [ -2.28496990e+00   1.40513027e+00]\n",
      " [ -8.91222959e-01  -8.41863985e-01]\n",
      " [  1.25418788e-01  -2.02994570e+00]\n",
      " [  1.31777117e+00  -7.53275274e-02]\n",
      " [ -1.10681208e+00  -9.46471109e-01]\n",
      " [ -9.87701208e-01  -7.57911824e-01]\n",
      " [ -2.65727761e-01   9.80318398e-01]\n",
      " [ -4.94168748e-01  -4.81886485e-01]\n",
      " [  1.18744472e+00  -1.05246285e+00]\n",
      " [  1.28617570e+00  -1.43692793e-02]\n",
      " [ -1.06015313e+00  -4.05803410e-01]\n",
      " [ -1.22521484e+00   1.50234297e+00]\n",
      " [ -1.95158482e-01   1.01162378e+00]\n",
      " [  6.98564215e-01  -1.65799269e+00]\n",
      " [  5.19989392e-01  -1.93281392e+00]\n",
      " [  5.14788733e-01  -8.26626046e-01]\n",
      " [  1.57620028e+00   1.49413540e+00]\n",
      " [ -1.99897749e+00   2.16065086e-02]\n",
      " [  3.22598601e-01  -1.65040786e+00]\n",
      " [  1.00731705e+00  -9.48475639e-01]\n",
      " [  7.82731141e-01  -7.77384741e-01]\n",
      " [ -1.25350363e+00   8.82806814e-01]\n",
      " [ -5.86495360e-01   1.84618075e+00]]\n",
      "     pcost       dcost       gap    pres   dres\n",
      " 0: -1.8506e+01 -4.5818e+01  2e+02  1e+01  2e+00\n",
      " 1: -3.7193e+01 -6.2595e+01  1e+02  6e+00  9e-01\n",
      " 2: -1.2652e+02 -1.5210e+02  1e+02  5e+00  8e-01\n",
      " 3: -2.6248e+02 -2.9605e+02  1e+02  4e+00  5e-01\n",
      " 4: -2.5003e+02 -2.6686e+02  7e+01  1e+00  2e-01\n",
      " 5: -2.3369e+02 -2.3468e+02  2e+00  2e-02  3e-03\n",
      " 6: -2.3378e+02 -2.3380e+02  4e-02  3e-04  5e-05\n",
      " 7: -2.3379e+02 -2.3379e+02  5e-04  3e-06  5e-07\n",
      " 8: -2.3379e+02 -2.3379e+02  5e-06  3e-08  5e-09\n",
      "Optimal solution found.\n"
     ]
    },
    {
     "data": {
      "image/png": "[encoded data removed]",
      "text/plain": [
       "<matplotlib.figure.Figure at 0x7f90f728ef60>"
      ]
     },
     "metadata": {},
     "output_type": "display_data"
    }
   ],
   "source": [
    "example()"
   ]
  },
  {
   "cell_type": "code",
   "execution_count": null,
   "metadata": {
    "collapsed": true
   },
   "outputs": [],
   "source": []
  },
  {
   "cell_type": "code",
   "execution_count": null,
   "metadata": {
    "collapsed": true
   },
   "outputs": [],
   "source": []
  },
  {
   "cell_type": "code",
   "execution_count": null,
   "metadata": {
    "collapsed": true
   },
   "outputs": [],
   "source": []
  }
 ],
 "metadata": {
  "kernelspec": {
   "display_name": "Python 3",
   "language": "python",
   "name": "python3"
  },
  "language_info": {
   "codemirror_mode": {
    "name": "ipython",
    "version": 3
   },
   "file_extension": ".py",
   "mimetype": "text/x-python",
   "name": "python",
   "nbconvert_exporter": "python",
   "pygments_lexer": "ipython3",
   "version": "3.6.3"
  }
 },
 "nbformat": 4,
 "nbformat_minor": 2
}
